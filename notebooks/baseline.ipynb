{
 "cells": [
  {
   "cell_type": "code",
   "execution_count": 1,
   "metadata": {
    "collapsed": true
   },
   "outputs": [],
   "source": [
    "%matplotlib inline\n",
    "import numpy as np\n",
    "import pandas as pd\n",
    "import matplotlib.pyplot as plt\n",
    "pd.set_option('display.max_columns', 0)\n",
    "\n",
    "from pathlib import Path"
   ]
  },
  {
   "cell_type": "code",
   "execution_count": 2,
   "metadata": {
    "collapsed": true
   },
   "outputs": [],
   "source": [
    "from category_encoders import OrdinalEncoder"
   ]
  },
  {
   "cell_type": "code",
   "execution_count": 3,
   "metadata": {
    "collapsed": true
   },
   "outputs": [],
   "source": [
    "SEED = 77"
   ]
  },
  {
   "cell_type": "code",
   "execution_count": 4,
   "metadata": {},
   "outputs": [
    {
     "name": "stdout",
     "output_type": "stream",
     "text": [
      "../data/input/application_test.ftr\n",
      "../data/input/application_train.ftr\n"
     ]
    }
   ],
   "source": [
    "files = Path('.').glob('../data/input/application_*.ftr')\n",
    "for f in files:\n",
    "    print(f)\n",
    "    globals()[f.stem] = pd.read_feather(f)"
   ]
  },
  {
   "cell_type": "code",
   "execution_count": 5,
   "metadata": {
    "collapsed": true
   },
   "outputs": [],
   "source": [
    "train = application_train\n",
    "test = application_test"
   ]
  },
  {
   "cell_type": "code",
   "execution_count": 6,
   "metadata": {
    "collapsed": true
   },
   "outputs": [],
   "source": [
    "categorical_columns = [\n",
    "    'NAME_CONTRACT_TYPE',\n",
    "    'CODE_GENDER',\n",
    "    'FLAG_OWN_CAR',\n",
    "    'FLAG_OWN_REALTY',\n",
    "    'NAME_TYPE_SUITE',\n",
    "    'NAME_INCOME_TYPE',\n",
    "    'NAME_EDUCATION_TYPE',\n",
    "    'NAME_FAMILY_STATUS',\n",
    "    'NAME_HOUSING_TYPE',\n",
    "    'OCCUPATION_TYPE',\n",
    "    'WEEKDAY_APPR_PROCESS_START',\n",
    "    'ORGANIZATION_TYPE',\n",
    "    'FONDKAPREMONT_MODE',\n",
    "    'HOUSETYPE_MODE',\n",
    "    'WALLSMATERIAL_MODE',\n",
    "    'EMERGENCYSTATE_MODE'\n",
    "]\n",
    "enc = OrdinalEncoder(cols=categorical_columns, verbose=1)\n",
    "train[categorical_columns] = enc.fit_transform(train[categorical_columns])\n",
    "test[categorical_columns] = enc.transform(test[categorical_columns])"
   ]
  },
  {
   "cell_type": "code",
   "execution_count": 7,
   "metadata": {
    "collapsed": true
   },
   "outputs": [],
   "source": [
    "X_train = train.drop(['SK_ID_CURR', 'TARGET'], axis=1)\n",
    "y_train = train.TARGET.values\n",
    "X_test = test.drop(['SK_ID_CURR'], axis=1)"
   ]
  },
  {
   "cell_type": "code",
   "execution_count": 8,
   "metadata": {
    "collapsed": true
   },
   "outputs": [],
   "source": [
    "from sklearn.model_selection import GridSearchCV, KFold, StratifiedKFold\n",
    "import lightgbm as lgb"
   ]
  },
  {
   "cell_type": "code",
   "execution_count": 10,
   "metadata": {},
   "outputs": [
    {
     "name": "stdout",
     "output_type": "stream",
     "text": [
      "Fitting 3 folds for each of 16 candidates, totalling 48 fits\n",
      "[CV] learning_rate=0.1, metric=auc, min_data_in_leaf=5, num_leaves=20, random_state=77, verbose=1 \n",
      "[CV] learning_rate=0.1, metric=auc, min_data_in_leaf=5, num_leaves=20, random_state=77, verbose=1 \n",
      "[CV] learning_rate=0.1, metric=auc, min_data_in_leaf=5, num_leaves=20, random_state=77, verbose=1 \n",
      "[CV]  learning_rate=0.1, metric=auc, min_data_in_leaf=5, num_leaves=20, random_state=77, verbose=1, score=0.7542977792194173, total=  43.2s\n",
      "[CV] learning_rate=0.1, metric=auc, min_data_in_leaf=5, num_leaves=30, random_state=77, verbose=1 \n",
      "[CV]  learning_rate=0.1, metric=auc, min_data_in_leaf=5, num_leaves=20, random_state=77, verbose=1, score=0.7538588921332902, total=  43.8s\n",
      "[CV] learning_rate=0.1, metric=auc, min_data_in_leaf=5, num_leaves=30, random_state=77, verbose=1 \n",
      "[CV]  learning_rate=0.1, metric=auc, min_data_in_leaf=5, num_leaves=20, random_state=77, verbose=1, score=0.7550425201224977, total=  45.7s\n",
      "[CV] learning_rate=0.1, metric=auc, min_data_in_leaf=5, num_leaves=30, random_state=77, verbose=1 \n",
      "[CV]  learning_rate=0.1, metric=auc, min_data_in_leaf=5, num_leaves=30, random_state=77, verbose=1, score=0.7543664350001101, total=  43.4s\n",
      "[CV] learning_rate=0.1, metric=auc, min_data_in_leaf=5, num_leaves=40, random_state=77, verbose=1 \n",
      "[CV]  learning_rate=0.1, metric=auc, min_data_in_leaf=5, num_leaves=30, random_state=77, verbose=1, score=0.7539550171516014, total=  43.7s\n",
      "[CV] learning_rate=0.1, metric=auc, min_data_in_leaf=5, num_leaves=40, random_state=77, verbose=1 \n",
      "[CV]  learning_rate=0.1, metric=auc, min_data_in_leaf=5, num_leaves=30, random_state=77, verbose=1, score=0.7540888623044163, total=  44.0s\n",
      "[CV] learning_rate=0.1, metric=auc, min_data_in_leaf=5, num_leaves=40, random_state=77, verbose=1 \n",
      "[CV]  learning_rate=0.1, metric=auc, min_data_in_leaf=5, num_leaves=40, random_state=77, verbose=1, score=0.7542754231920507, total=  46.2s\n",
      "[CV] learning_rate=0.1, metric=auc, min_data_in_leaf=5, num_leaves=50, random_state=77, verbose=1 \n",
      "[CV]  learning_rate=0.1, metric=auc, min_data_in_leaf=5, num_leaves=40, random_state=77, verbose=1, score=0.752581080756564, total=  46.9s\n",
      "[CV] learning_rate=0.1, metric=auc, min_data_in_leaf=5, num_leaves=50, random_state=77, verbose=1 \n",
      "[CV]  learning_rate=0.1, metric=auc, min_data_in_leaf=5, num_leaves=40, random_state=77, verbose=1, score=0.7535949237736277, total=  48.8s\n",
      "[CV] learning_rate=0.1, metric=auc, min_data_in_leaf=5, num_leaves=50, random_state=77, verbose=1 \n",
      "[CV]  learning_rate=0.1, metric=auc, min_data_in_leaf=5, num_leaves=50, random_state=77, verbose=1, score=0.7531992777510365, total=  46.9s\n",
      "[CV] learning_rate=0.1, metric=auc, min_data_in_leaf=10, num_leaves=20, random_state=77, verbose=1 \n",
      "[CV]  learning_rate=0.1, metric=auc, min_data_in_leaf=5, num_leaves=50, random_state=77, verbose=1, score=0.7519652140111579, total=  46.8s\n",
      "[CV] learning_rate=0.1, metric=auc, min_data_in_leaf=10, num_leaves=20, random_state=77, verbose=1 \n",
      "[CV]  learning_rate=0.1, metric=auc, min_data_in_leaf=5, num_leaves=50, random_state=77, verbose=1, score=0.7541066734450231, total=  45.6s\n",
      "[CV] learning_rate=0.1, metric=auc, min_data_in_leaf=10, num_leaves=20, random_state=77, verbose=1 \n",
      "[CV]  learning_rate=0.1, metric=auc, min_data_in_leaf=10, num_leaves=20, random_state=77, verbose=1, score=0.7554618623864809, total=  35.4s\n",
      "[CV] learning_rate=0.1, metric=auc, min_data_in_leaf=10, num_leaves=30, random_state=77, verbose=1 \n",
      "[CV]  learning_rate=0.1, metric=auc, min_data_in_leaf=10, num_leaves=20, random_state=77, verbose=1, score=0.754351570524709, total=  36.1s\n",
      "[CV] learning_rate=0.1, metric=auc, min_data_in_leaf=10, num_leaves=30, random_state=77, verbose=1 \n",
      "[CV]  learning_rate=0.1, metric=auc, min_data_in_leaf=10, num_leaves=20, random_state=77, verbose=1, score=0.7551287684676122, total=  36.7s\n",
      "[CV] learning_rate=0.1, metric=auc, min_data_in_leaf=10, num_leaves=30, random_state=77, verbose=1 \n",
      "[CV]  learning_rate=0.1, metric=auc, min_data_in_leaf=10, num_leaves=30, random_state=77, verbose=1, score=0.7546032278053476, total=  39.6s\n",
      "[CV] learning_rate=0.1, metric=auc, min_data_in_leaf=10, num_leaves=40, random_state=77, verbose=1 \n",
      "[CV]  learning_rate=0.1, metric=auc, min_data_in_leaf=10, num_leaves=30, random_state=77, verbose=1, score=0.7542218454181127, total=  37.7s\n",
      "[CV] learning_rate=0.1, metric=auc, min_data_in_leaf=10, num_leaves=40, random_state=77, verbose=1 \n",
      "[CV]  learning_rate=0.1, metric=auc, min_data_in_leaf=10, num_leaves=30, random_state=77, verbose=1, score=0.755316020138593, total=  38.5s\n",
      "[CV] learning_rate=0.1, metric=auc, min_data_in_leaf=10, num_leaves=40, random_state=77, verbose=1 \n",
      "[CV]  learning_rate=0.1, metric=auc, min_data_in_leaf=10, num_leaves=40, random_state=77, verbose=1, score=0.7541144218338822, total=  52.6s\n",
      "[CV] learning_rate=0.1, metric=auc, min_data_in_leaf=10, num_leaves=50, random_state=77, verbose=1 \n",
      "[CV]  learning_rate=0.1, metric=auc, min_data_in_leaf=10, num_leaves=40, random_state=77, verbose=1, score=0.7535813218930971, total=  53.5s\n",
      "[CV] learning_rate=0.1, metric=auc, min_data_in_leaf=10, num_leaves=50, random_state=77, verbose=1 \n",
      "[CV]  learning_rate=0.1, metric=auc, min_data_in_leaf=10, num_leaves=40, random_state=77, verbose=1, score=0.7547339941803431, total=  54.6s\n",
      "[CV] learning_rate=0.1, metric=auc, min_data_in_leaf=10, num_leaves=50, random_state=77, verbose=1 \n",
      "[CV]  learning_rate=0.1, metric=auc, min_data_in_leaf=10, num_leaves=50, random_state=77, verbose=1, score=0.7537451421216277, total=  53.4s\n",
      "[CV] learning_rate=0.1, metric=auc, min_data_in_leaf=15, num_leaves=20, random_state=77, verbose=1 \n",
      "[CV]  learning_rate=0.1, metric=auc, min_data_in_leaf=10, num_leaves=50, random_state=77, verbose=1, score=0.7525202826731907, total=  54.4s\n",
      "[CV] learning_rate=0.1, metric=auc, min_data_in_leaf=15, num_leaves=20, random_state=77, verbose=1 \n",
      "[CV]  learning_rate=0.1, metric=auc, min_data_in_leaf=10, num_leaves=50, random_state=77, verbose=1, score=0.75367937407589, total=  54.7s\n",
      "[CV] learning_rate=0.1, metric=auc, min_data_in_leaf=15, num_leaves=20, random_state=77, verbose=1 \n",
      "[CV]  learning_rate=0.1, metric=auc, min_data_in_leaf=15, num_leaves=20, random_state=77, verbose=1, score=0.7545528177337726, total=  33.9s\n",
      "[CV] learning_rate=0.1, metric=auc, min_data_in_leaf=15, num_leaves=30, random_state=77, verbose=1 \n",
      "[CV]  learning_rate=0.1, metric=auc, min_data_in_leaf=15, num_leaves=20, random_state=77, verbose=1, score=0.7541155619502389, total=  32.2s\n",
      "[CV] learning_rate=0.1, metric=auc, min_data_in_leaf=15, num_leaves=30, random_state=77, verbose=1 \n"
     ]
    },
    {
     "name": "stderr",
     "output_type": "stream",
     "text": [
      "[Parallel(n_jobs=3)]: Done  26 tasks      | elapsed:  7.6min\n"
     ]
    },
    {
     "name": "stdout",
     "output_type": "stream",
     "text": [
      "[CV]  learning_rate=0.1, metric=auc, min_data_in_leaf=15, num_leaves=20, random_state=77, verbose=1, score=0.7560339432528955, total=  32.5s\n",
      "[CV] learning_rate=0.1, metric=auc, min_data_in_leaf=15, num_leaves=30, random_state=77, verbose=1 \n",
      "[CV]  learning_rate=0.1, metric=auc, min_data_in_leaf=15, num_leaves=30, random_state=77, verbose=1, score=0.7552710974508045, total=  38.1s\n",
      "[CV] learning_rate=0.1, metric=auc, min_data_in_leaf=15, num_leaves=40, random_state=77, verbose=1 \n",
      "[CV]  learning_rate=0.1, metric=auc, min_data_in_leaf=15, num_leaves=30, random_state=77, verbose=1, score=0.753652919661329, total=  39.1s\n",
      "[CV] learning_rate=0.1, metric=auc, min_data_in_leaf=15, num_leaves=40, random_state=77, verbose=1 \n",
      "[CV]  learning_rate=0.1, metric=auc, min_data_in_leaf=15, num_leaves=30, random_state=77, verbose=1, score=0.755629591373601, total=  42.5s\n",
      "[CV] learning_rate=0.1, metric=auc, min_data_in_leaf=15, num_leaves=40, random_state=77, verbose=1 \n",
      "[CV]  learning_rate=0.1, metric=auc, min_data_in_leaf=15, num_leaves=40, random_state=77, verbose=1, score=0.7554417917217101, total=  53.3s\n",
      "[CV] learning_rate=0.1, metric=auc, min_data_in_leaf=15, num_leaves=50, random_state=77, verbose=1 \n",
      "[CV]  learning_rate=0.1, metric=auc, min_data_in_leaf=15, num_leaves=40, random_state=77, verbose=1, score=0.7545314440788797, total=  54.0s\n",
      "[CV] learning_rate=0.1, metric=auc, min_data_in_leaf=15, num_leaves=50, random_state=77, verbose=1 \n",
      "[CV]  learning_rate=0.1, metric=auc, min_data_in_leaf=15, num_leaves=40, random_state=77, verbose=1, score=0.7556852550354498, total=  55.1s\n",
      "[CV] learning_rate=0.1, metric=auc, min_data_in_leaf=15, num_leaves=50, random_state=77, verbose=1 \n",
      "[CV]  learning_rate=0.1, metric=auc, min_data_in_leaf=15, num_leaves=50, random_state=77, verbose=1, score=0.7544004294481026, total=  45.8s\n",
      "[CV] learning_rate=0.1, metric=auc, min_data_in_leaf=20, num_leaves=20, random_state=77, verbose=1 \n",
      "[CV]  learning_rate=0.1, metric=auc, min_data_in_leaf=15, num_leaves=50, random_state=77, verbose=1, score=0.7528319217446704, total=  44.7s\n",
      "[CV] learning_rate=0.1, metric=auc, min_data_in_leaf=20, num_leaves=20, random_state=77, verbose=1 \n",
      "[CV]  learning_rate=0.1, metric=auc, min_data_in_leaf=15, num_leaves=50, random_state=77, verbose=1, score=0.7542407007391084, total=  46.0s\n",
      "[CV] learning_rate=0.1, metric=auc, min_data_in_leaf=20, num_leaves=20, random_state=77, verbose=1 \n"
     ]
    },
    {
     "ename": "KeyboardInterrupt",
     "evalue": "",
     "output_type": "error",
     "traceback": [
      "\u001b[0;31m---------------------------------------------------------------------------\u001b[0m",
      "\u001b[0;31mKeyboardInterrupt\u001b[0m                         Traceback (most recent call last)",
      "\u001b[0;32m<ipython-input-10-93e0cb24338c>\u001b[0m in \u001b[0;36m<module>\u001b[0;34m()\u001b[0m\n\u001b[1;32m      9\u001b[0m \u001b[0;34m\u001b[0m\u001b[0m\n\u001b[1;32m     10\u001b[0m \u001b[0mmodel\u001b[0m \u001b[0;34m=\u001b[0m \u001b[0mGridSearchCV\u001b[0m\u001b[0;34m(\u001b[0m\u001b[0mlgb\u001b[0m\u001b[0;34m.\u001b[0m\u001b[0mLGBMClassifier\u001b[0m\u001b[0;34m(\u001b[0m\u001b[0;34m)\u001b[0m\u001b[0;34m,\u001b[0m \u001b[0mparams\u001b[0m\u001b[0;34m,\u001b[0m \u001b[0mscoring\u001b[0m\u001b[0;34m=\u001b[0m\u001b[0;34m'roc_auc'\u001b[0m\u001b[0;34m,\u001b[0m \u001b[0mn_jobs\u001b[0m\u001b[0;34m=\u001b[0m\u001b[0;36m3\u001b[0m\u001b[0;34m,\u001b[0m \u001b[0mcv\u001b[0m\u001b[0;34m=\u001b[0m\u001b[0mcv\u001b[0m\u001b[0;34m.\u001b[0m\u001b[0msplit\u001b[0m\u001b[0;34m(\u001b[0m\u001b[0mX_train\u001b[0m\u001b[0;34m,\u001b[0m \u001b[0my_train\u001b[0m\u001b[0;34m)\u001b[0m\u001b[0;34m,\u001b[0m \u001b[0mverbose\u001b[0m\u001b[0;34m=\u001b[0m\u001b[0;36m3\u001b[0m\u001b[0;34m)\u001b[0m\u001b[0;34m\u001b[0m\u001b[0m\n\u001b[0;32m---> 11\u001b[0;31m \u001b[0mmodel\u001b[0m\u001b[0;34m.\u001b[0m\u001b[0mfit\u001b[0m\u001b[0;34m(\u001b[0m\u001b[0mX_train\u001b[0m\u001b[0;34m,\u001b[0m \u001b[0my_train\u001b[0m\u001b[0;34m)\u001b[0m\u001b[0;34m\u001b[0m\u001b[0m\n\u001b[0m",
      "\u001b[0;32m~/.pyenv/versions/3.6.1/envs/compe/lib/python3.6/site-packages/sklearn/model_selection/_search.py\u001b[0m in \u001b[0;36mfit\u001b[0;34m(self, X, y, groups, **fit_params)\u001b[0m\n\u001b[1;32m    637\u001b[0m                                   error_score=self.error_score)\n\u001b[1;32m    638\u001b[0m           for parameters, (train, test) in product(candidate_params,\n\u001b[0;32m--> 639\u001b[0;31m                                                    cv.split(X, y, groups)))\n\u001b[0m\u001b[1;32m    640\u001b[0m \u001b[0;34m\u001b[0m\u001b[0m\n\u001b[1;32m    641\u001b[0m         \u001b[0;31m# if one choose to see train score, \"out\" will contain train score info\u001b[0m\u001b[0;34m\u001b[0m\u001b[0;34m\u001b[0m\u001b[0m\n",
      "\u001b[0;32m~/.pyenv/versions/3.6.1/envs/compe/lib/python3.6/site-packages/sklearn/externals/joblib/parallel.py\u001b[0m in \u001b[0;36m__call__\u001b[0;34m(self, iterable)\u001b[0m\n\u001b[1;32m    787\u001b[0m                 \u001b[0;31m# consumption.\u001b[0m\u001b[0;34m\u001b[0m\u001b[0;34m\u001b[0m\u001b[0m\n\u001b[1;32m    788\u001b[0m                 \u001b[0mself\u001b[0m\u001b[0;34m.\u001b[0m\u001b[0m_iterating\u001b[0m \u001b[0;34m=\u001b[0m \u001b[0;32mFalse\u001b[0m\u001b[0;34m\u001b[0m\u001b[0m\n\u001b[0;32m--> 789\u001b[0;31m             \u001b[0mself\u001b[0m\u001b[0;34m.\u001b[0m\u001b[0mretrieve\u001b[0m\u001b[0;34m(\u001b[0m\u001b[0;34m)\u001b[0m\u001b[0;34m\u001b[0m\u001b[0m\n\u001b[0m\u001b[1;32m    790\u001b[0m             \u001b[0;31m# Make sure that we get a last message telling us we are done\u001b[0m\u001b[0;34m\u001b[0m\u001b[0;34m\u001b[0m\u001b[0m\n\u001b[1;32m    791\u001b[0m             \u001b[0melapsed_time\u001b[0m \u001b[0;34m=\u001b[0m \u001b[0mtime\u001b[0m\u001b[0;34m.\u001b[0m\u001b[0mtime\u001b[0m\u001b[0;34m(\u001b[0m\u001b[0;34m)\u001b[0m \u001b[0;34m-\u001b[0m \u001b[0mself\u001b[0m\u001b[0;34m.\u001b[0m\u001b[0m_start_time\u001b[0m\u001b[0;34m\u001b[0m\u001b[0m\n",
      "\u001b[0;32m~/.pyenv/versions/3.6.1/envs/compe/lib/python3.6/site-packages/sklearn/externals/joblib/parallel.py\u001b[0m in \u001b[0;36mretrieve\u001b[0;34m(self)\u001b[0m\n\u001b[1;32m    697\u001b[0m             \u001b[0;32mtry\u001b[0m\u001b[0;34m:\u001b[0m\u001b[0;34m\u001b[0m\u001b[0m\n\u001b[1;32m    698\u001b[0m                 \u001b[0;32mif\u001b[0m \u001b[0mgetattr\u001b[0m\u001b[0;34m(\u001b[0m\u001b[0mself\u001b[0m\u001b[0;34m.\u001b[0m\u001b[0m_backend\u001b[0m\u001b[0;34m,\u001b[0m \u001b[0;34m'supports_timeout'\u001b[0m\u001b[0;34m,\u001b[0m \u001b[0;32mFalse\u001b[0m\u001b[0;34m)\u001b[0m\u001b[0;34m:\u001b[0m\u001b[0;34m\u001b[0m\u001b[0m\n\u001b[0;32m--> 699\u001b[0;31m                     \u001b[0mself\u001b[0m\u001b[0;34m.\u001b[0m\u001b[0m_output\u001b[0m\u001b[0;34m.\u001b[0m\u001b[0mextend\u001b[0m\u001b[0;34m(\u001b[0m\u001b[0mjob\u001b[0m\u001b[0;34m.\u001b[0m\u001b[0mget\u001b[0m\u001b[0;34m(\u001b[0m\u001b[0mtimeout\u001b[0m\u001b[0;34m=\u001b[0m\u001b[0mself\u001b[0m\u001b[0;34m.\u001b[0m\u001b[0mtimeout\u001b[0m\u001b[0;34m)\u001b[0m\u001b[0;34m)\u001b[0m\u001b[0;34m\u001b[0m\u001b[0m\n\u001b[0m\u001b[1;32m    700\u001b[0m                 \u001b[0;32melse\u001b[0m\u001b[0;34m:\u001b[0m\u001b[0;34m\u001b[0m\u001b[0m\n\u001b[1;32m    701\u001b[0m                     \u001b[0mself\u001b[0m\u001b[0;34m.\u001b[0m\u001b[0m_output\u001b[0m\u001b[0;34m.\u001b[0m\u001b[0mextend\u001b[0m\u001b[0;34m(\u001b[0m\u001b[0mjob\u001b[0m\u001b[0;34m.\u001b[0m\u001b[0mget\u001b[0m\u001b[0;34m(\u001b[0m\u001b[0;34m)\u001b[0m\u001b[0;34m)\u001b[0m\u001b[0;34m\u001b[0m\u001b[0m\n",
      "\u001b[0;32m~/.pyenv/versions/3.6.1/lib/python3.6/multiprocessing/pool.py\u001b[0m in \u001b[0;36mget\u001b[0;34m(self, timeout)\u001b[0m\n\u001b[1;32m    600\u001b[0m \u001b[0;34m\u001b[0m\u001b[0m\n\u001b[1;32m    601\u001b[0m     \u001b[0;32mdef\u001b[0m \u001b[0mget\u001b[0m\u001b[0;34m(\u001b[0m\u001b[0mself\u001b[0m\u001b[0;34m,\u001b[0m \u001b[0mtimeout\u001b[0m\u001b[0;34m=\u001b[0m\u001b[0;32mNone\u001b[0m\u001b[0;34m)\u001b[0m\u001b[0;34m:\u001b[0m\u001b[0;34m\u001b[0m\u001b[0m\n\u001b[0;32m--> 602\u001b[0;31m         \u001b[0mself\u001b[0m\u001b[0;34m.\u001b[0m\u001b[0mwait\u001b[0m\u001b[0;34m(\u001b[0m\u001b[0mtimeout\u001b[0m\u001b[0;34m)\u001b[0m\u001b[0;34m\u001b[0m\u001b[0m\n\u001b[0m\u001b[1;32m    603\u001b[0m         \u001b[0;32mif\u001b[0m \u001b[0;32mnot\u001b[0m \u001b[0mself\u001b[0m\u001b[0;34m.\u001b[0m\u001b[0mready\u001b[0m\u001b[0;34m(\u001b[0m\u001b[0;34m)\u001b[0m\u001b[0;34m:\u001b[0m\u001b[0;34m\u001b[0m\u001b[0m\n\u001b[1;32m    604\u001b[0m             \u001b[0;32mraise\u001b[0m \u001b[0mTimeoutError\u001b[0m\u001b[0;34m\u001b[0m\u001b[0m\n",
      "\u001b[0;32m~/.pyenv/versions/3.6.1/lib/python3.6/multiprocessing/pool.py\u001b[0m in \u001b[0;36mwait\u001b[0;34m(self, timeout)\u001b[0m\n\u001b[1;32m    597\u001b[0m \u001b[0;34m\u001b[0m\u001b[0m\n\u001b[1;32m    598\u001b[0m     \u001b[0;32mdef\u001b[0m \u001b[0mwait\u001b[0m\u001b[0;34m(\u001b[0m\u001b[0mself\u001b[0m\u001b[0;34m,\u001b[0m \u001b[0mtimeout\u001b[0m\u001b[0;34m=\u001b[0m\u001b[0;32mNone\u001b[0m\u001b[0;34m)\u001b[0m\u001b[0;34m:\u001b[0m\u001b[0;34m\u001b[0m\u001b[0m\n\u001b[0;32m--> 599\u001b[0;31m         \u001b[0mself\u001b[0m\u001b[0;34m.\u001b[0m\u001b[0m_event\u001b[0m\u001b[0;34m.\u001b[0m\u001b[0mwait\u001b[0m\u001b[0;34m(\u001b[0m\u001b[0mtimeout\u001b[0m\u001b[0;34m)\u001b[0m\u001b[0;34m\u001b[0m\u001b[0m\n\u001b[0m\u001b[1;32m    600\u001b[0m \u001b[0;34m\u001b[0m\u001b[0m\n\u001b[1;32m    601\u001b[0m     \u001b[0;32mdef\u001b[0m \u001b[0mget\u001b[0m\u001b[0;34m(\u001b[0m\u001b[0mself\u001b[0m\u001b[0;34m,\u001b[0m \u001b[0mtimeout\u001b[0m\u001b[0;34m=\u001b[0m\u001b[0;32mNone\u001b[0m\u001b[0;34m)\u001b[0m\u001b[0;34m:\u001b[0m\u001b[0;34m\u001b[0m\u001b[0m\n",
      "\u001b[0;32m~/.pyenv/versions/3.6.1/lib/python3.6/threading.py\u001b[0m in \u001b[0;36mwait\u001b[0;34m(self, timeout)\u001b[0m\n\u001b[1;32m    549\u001b[0m             \u001b[0msignaled\u001b[0m \u001b[0;34m=\u001b[0m \u001b[0mself\u001b[0m\u001b[0;34m.\u001b[0m\u001b[0m_flag\u001b[0m\u001b[0;34m\u001b[0m\u001b[0m\n\u001b[1;32m    550\u001b[0m             \u001b[0;32mif\u001b[0m \u001b[0;32mnot\u001b[0m \u001b[0msignaled\u001b[0m\u001b[0;34m:\u001b[0m\u001b[0;34m\u001b[0m\u001b[0m\n\u001b[0;32m--> 551\u001b[0;31m                 \u001b[0msignaled\u001b[0m \u001b[0;34m=\u001b[0m \u001b[0mself\u001b[0m\u001b[0;34m.\u001b[0m\u001b[0m_cond\u001b[0m\u001b[0;34m.\u001b[0m\u001b[0mwait\u001b[0m\u001b[0;34m(\u001b[0m\u001b[0mtimeout\u001b[0m\u001b[0;34m)\u001b[0m\u001b[0;34m\u001b[0m\u001b[0m\n\u001b[0m\u001b[1;32m    552\u001b[0m             \u001b[0;32mreturn\u001b[0m \u001b[0msignaled\u001b[0m\u001b[0;34m\u001b[0m\u001b[0m\n\u001b[1;32m    553\u001b[0m \u001b[0;34m\u001b[0m\u001b[0m\n",
      "\u001b[0;32m~/.pyenv/versions/3.6.1/lib/python3.6/threading.py\u001b[0m in \u001b[0;36mwait\u001b[0;34m(self, timeout)\u001b[0m\n\u001b[1;32m    293\u001b[0m         \u001b[0;32mtry\u001b[0m\u001b[0;34m:\u001b[0m    \u001b[0;31m# restore state no matter what (e.g., KeyboardInterrupt)\u001b[0m\u001b[0;34m\u001b[0m\u001b[0m\n\u001b[1;32m    294\u001b[0m             \u001b[0;32mif\u001b[0m \u001b[0mtimeout\u001b[0m \u001b[0;32mis\u001b[0m \u001b[0;32mNone\u001b[0m\u001b[0;34m:\u001b[0m\u001b[0;34m\u001b[0m\u001b[0m\n\u001b[0;32m--> 295\u001b[0;31m                 \u001b[0mwaiter\u001b[0m\u001b[0;34m.\u001b[0m\u001b[0macquire\u001b[0m\u001b[0;34m(\u001b[0m\u001b[0;34m)\u001b[0m\u001b[0;34m\u001b[0m\u001b[0m\n\u001b[0m\u001b[1;32m    296\u001b[0m                 \u001b[0mgotit\u001b[0m \u001b[0;34m=\u001b[0m \u001b[0;32mTrue\u001b[0m\u001b[0;34m\u001b[0m\u001b[0m\n\u001b[1;32m    297\u001b[0m             \u001b[0;32melse\u001b[0m\u001b[0;34m:\u001b[0m\u001b[0;34m\u001b[0m\u001b[0m\n",
      "\u001b[0;31mKeyboardInterrupt\u001b[0m: "
     ]
    }
   ],
   "source": [
    "params = {\n",
    "    'metric': ['auc'],\n",
    "    'learning_rate': [0.1],\n",
    "    'num_leaves': [i*10 for i in range(2, 6)],\n",
    "    'min_data_in_leaf': [5, 10, 15, 20],\n",
    "    'random_state': [SEED],\n",
    "    'colsample_bytree': [0.8],\n",
    "    'subsample': [0.8],\n",
    "    'verbose': [1]\n",
    "}\n",
    "\n",
    "cv = StratifiedKFold(5, shuffle=True, random_state=SEED)\n",
    "model = GridSearchCV(lgb.LGBMClassifier(), params, scoring='roc_auc', n_jobs=4, cv=cv.split(X_train, y_train), verbose=3)\n",
    "model.fit(X_train, y_train)"
   ]
  },
  {
   "cell_type": "code",
   "execution_count": null,
   "metadata": {
    "collapsed": true
   },
   "outputs": [],
   "source": [
    "pred = model.predict_proba(X_test)[:, 1]\n",
    "plt.hist(pred, bins=50)\n",
    "plt.show()"
   ]
  },
  {
   "cell_type": "code",
   "execution_count": null,
   "metadata": {
    "collapsed": true
   },
   "outputs": [],
   "source": [
    "feat_df = pd.DataFrame({'importance': model.best_estimator_.feature_importances_}, index=X_train.columns).sort_values('importance', ascending=False)\n",
    "feat_df[:30].plot.bar(figsize=(20, 5))"
   ]
  },
  {
   "cell_type": "code",
   "execution_count": null,
   "metadata": {
    "collapsed": true
   },
   "outputs": [],
   "source": [
    "import time\n",
    "sample_submission.TARGET = pred\n",
    "sample_submission.to_csv(f\"{time.strftime('%y%m%d_%H%M%S')}_submission.csv.gz\", index=None, compression='gzip')"
   ]
  }
 ],
 "metadata": {
  "kernelspec": {
   "display_name": "Python 3",
   "language": "python",
   "name": "python3"
  },
  "language_info": {
   "codemirror_mode": {
    "name": "ipython",
    "version": 3
   },
   "file_extension": ".py",
   "mimetype": "text/x-python",
   "name": "python",
   "nbconvert_exporter": "python",
   "pygments_lexer": "ipython3",
   "version": "3.6.1"
  },
  "toc": {
   "base_numbering": 1,
   "nav_menu": {},
   "number_sections": false,
   "sideBar": true,
   "skip_h1_title": false,
   "title_cell": "Table of Contents",
   "title_sidebar": "Contents",
   "toc_cell": false,
   "toc_position": {},
   "toc_section_display": true,
   "toc_window_display": false
  },
  "varInspector": {
   "cols": {
    "lenName": 16,
    "lenType": 16,
    "lenVar": 40
   },
   "kernels_config": {
    "python": {
     "delete_cmd_postfix": "",
     "delete_cmd_prefix": "del ",
     "library": "var_list.py",
     "varRefreshCmd": "print(var_dic_list())"
    },
    "r": {
     "delete_cmd_postfix": ") ",
     "delete_cmd_prefix": "rm(",
     "library": "var_list.r",
     "varRefreshCmd": "cat(var_dic_list()) "
    }
   },
   "types_to_exclude": [
    "module",
    "function",
    "builtin_function_or_method",
    "instance",
    "_Feature"
   ],
   "window_display": false
  }
 },
 "nbformat": 4,
 "nbformat_minor": 2
}
